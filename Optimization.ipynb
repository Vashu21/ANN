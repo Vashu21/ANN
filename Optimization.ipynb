{
 "cells": [
  {
   "cell_type": "code",
   "execution_count": null,
   "id": "c11f5ea1",
   "metadata": {},
   "outputs": [],
   "source": [
    "# import numpy as np\n",
    "np.random.seed(300)\n",
    "n_bits=10\n",
    "n_pop=6\n",
    "pop=[np.random.randint(0,2,n_bits).tolist() for _ in range(n_pop)]\n",
    "\n",
    "def objective(b):\n",
    "    X1=int(\"\".join(list(map(str,b[:5]))),2)\n",
    "    x1=(0.5/31)*X1\n",
    "    X2=int(\"\".join(list(map(str,b[5:]))),2)\n",
    "    x2=(0.5/31)*X2\n",
    "    \n",
    "    f=x1+x2-2*x1*x1-x2*x2+x1*x2\n",
    "    return 1/(1+f)\n",
    "\n",
    "#crossover\n",
    "def crossover(p1,p2):\n",
    "    pt=np.random.randint(1,len(p1)-2)\n",
    "    c1=p1[:pt]+p2[pt:]\n",
    "    c2=p2[:pt]+p1[pt:]\n",
    "    return [c1,c2]\n",
    "\n",
    "#mutation\n",
    "def mutation(bit,r_mut):\n",
    "    for i in range(len(bit)):\n",
    "        if np.random.random_sample()<r_mut:\n",
    "            bit[i]=1-bit[i]\n",
    "\n",
    "for gen in range(13):\n",
    "    \n",
    "    scores=[objective(c) for c in pop]\n",
    "    sum_scores=sum(scores)\n",
    "    prob=[x/sum_scores for x in scores]\n",
    "    cum_prob=[sum(prob[:i+1]) for i in range(len(prob))]\n",
    "    #print(cum_prob)\n",
    "    random_prob=[np.random.random_sample() for _ in range(len(pop))]\n",
    "    #print(random_prob)\n",
    "    selection_index=[]\n",
    "    for x in random_prob:\n",
    "        for i in range(len(cum_prob)):\n",
    "            if cum_prob[i]>=x:\n",
    "                selection_index.append(i)\n",
    "                break\n",
    "    #print(selection_index)\n",
    "    parents=[pop[i] for i in selection_index]\n",
    "    #print(parents)\n",
    "    #next generation\n",
    "    children=[]\n",
    "    for i in range(0,len(pop),2):\n",
    "        p1,p2=parents[i],parents[i+1]\n",
    "        for c in crossover(p1,p2):\n",
    "            mutation(c,0.0)\n",
    "            children.append(c)\n",
    "    pop=children\n",
    "    #print(\"f(x) = \",objective(pop[0]))\n",
    "    #if objective(pop[0])==1:\n",
    "        #break\n",
    "    \n",
    "print(\"x1 = \",(0.5/31)*int(\"\".join(list(map(str,pop[0][:5]))),2))\n",
    "print(\"x2 = \",(0.5/31)*int(\"\".join(list(map(str,pop[0][5:]))),2))\n",
    "print(\"no of generations = \",gen+1)\n",
    "pop"
   ]
  },
  {
   "cell_type": "code",
   "execution_count": 2,
   "id": "b3a9e90b",
   "metadata": {},
   "outputs": [
    {
     "data": {
      "text/plain": [
       "0.0"
      ]
     },
     "execution_count": 2,
     "metadata": {},
     "output_type": "execute_result"
    }
   ],
   "source": [
    "0.5-0.5"
   ]
  },
  {
   "cell_type": "code",
   "execution_count": 3,
   "id": "2b84c0a2",
   "metadata": {},
   "outputs": [
    {
     "ename": "NameError",
     "evalue": "name 'np' is not defined",
     "output_type": "error",
     "traceback": [
      "\u001b[1;31m---------------------------------------------------------------------------\u001b[0m",
      "\u001b[1;31mNameError\u001b[0m                                 Traceback (most recent call last)",
      "Input \u001b[1;32mIn [3]\u001b[0m, in \u001b[0;36m<cell line: 3>\u001b[1;34m()\u001b[0m\n\u001b[0;32m      1\u001b[0m \u001b[38;5;28;01mfrom\u001b[39;00m \u001b[38;5;21;01mmpl_toolkits\u001b[39;00m \u001b[38;5;28;01mimport\u001b[39;00m mplot3d\n\u001b[0;32m      2\u001b[0m \u001b[38;5;28;01mimport\u001b[39;00m \u001b[38;5;21;01mmatplotlib\u001b[39;00m\u001b[38;5;21;01m.\u001b[39;00m\u001b[38;5;21;01mpyplot\u001b[39;00m \u001b[38;5;28;01mas\u001b[39;00m \u001b[38;5;21;01mplt\u001b[39;00m\n\u001b[1;32m----> 3\u001b[0m x\u001b[38;5;241m=\u001b[39m\u001b[43mnp\u001b[49m\u001b[38;5;241m.\u001b[39mouter(np\u001b[38;5;241m.\u001b[39mlinspace(\u001b[38;5;241m0\u001b[39m,\u001b[38;5;241m0.5\u001b[39m,\u001b[38;5;241m1000\u001b[39m),np\u001b[38;5;241m.\u001b[39mones(\u001b[38;5;241m1000\u001b[39m))\n\u001b[0;32m      4\u001b[0m y\u001b[38;5;241m=\u001b[39mx\u001b[38;5;241m.\u001b[39mcopy()\u001b[38;5;241m.\u001b[39mT\n\u001b[0;32m      5\u001b[0m z\u001b[38;5;241m=\u001b[39mx\u001b[38;5;241m+\u001b[39my\u001b[38;5;241m-\u001b[39m\u001b[38;5;241m2\u001b[39m\u001b[38;5;241m*\u001b[39mx\u001b[38;5;241m*\u001b[39mx\u001b[38;5;241m-\u001b[39my\u001b[38;5;241m*\u001b[39my\u001b[38;5;241m+\u001b[39mx\u001b[38;5;241m*\u001b[39my\n",
      "\u001b[1;31mNameError\u001b[0m: name 'np' is not defined"
     ]
    }
   ],
   "source": [
    "from mpl_toolkits import mplot3d\n",
    "import matplotlib.pyplot as plt\n",
    "x=np.outer(np.linspace(0,0.5,1000),np.ones(1000))\n",
    "y=x.copy().T\n",
    "z=x+y-2*x*x-y*y+x*y\n",
    "fig=plt.figure()\n",
    "ax=plt.axes(projection='3d')\n",
    "ax.plot_surface(x,y,z)\n",
    "plt.show()"
   ]
  },
  {
   "cell_type": "code",
   "execution_count": null,
   "id": "05557d28",
   "metadata": {},
   "outputs": [],
   "source": []
  },
  {
   "cell_type": "code",
   "execution_count": null,
   "id": "d90550cf",
   "metadata": {},
   "outputs": [],
   "source": []
  }
 ],
 "metadata": {
  "kernelspec": {
   "display_name": "Python 3 (ipykernel)",
   "language": "python",
   "name": "python3"
  },
  "language_info": {
   "codemirror_mode": {
    "name": "ipython",
    "version": 3
   },
   "file_extension": ".py",
   "mimetype": "text/x-python",
   "name": "python",
   "nbconvert_exporter": "python",
   "pygments_lexer": "ipython3",
   "version": "3.10.4"
  }
 },
 "nbformat": 4,
 "nbformat_minor": 5
}
