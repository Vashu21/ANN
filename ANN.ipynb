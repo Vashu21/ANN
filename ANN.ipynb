{
 "cells": [
  {
   "cell_type": "code",
   "execution_count": 3,
   "metadata": {},
   "outputs": [],
   "source": [
    "#importing librarie\n",
    "import numpy as np\n",
    "import pandas as pd\n",
    "from sklearn.metrics import mean_squared_error"
   ]
  },
  {
   "cell_type": "markdown",
   "metadata": {},
   "source": [
    "### Reading the dataframe"
   ]
  },
  {
   "cell_type": "code",
   "execution_count": 4,
   "metadata": {},
   "outputs": [
    {
     "data": {
      "text/html": [
       "<div>\n",
       "<style scoped>\n",
       "    .dataframe tbody tr th:only-of-type {\n",
       "        vertical-align: middle;\n",
       "    }\n",
       "\n",
       "    .dataframe tbody tr th {\n",
       "        vertical-align: top;\n",
       "    }\n",
       "\n",
       "    .dataframe thead th {\n",
       "        text-align: right;\n",
       "    }\n",
       "</style>\n",
       "<table border=\"1\" class=\"dataframe\">\n",
       "  <thead>\n",
       "    <tr style=\"text-align: right;\">\n",
       "      <th></th>\n",
       "      <th>M1</th>\n",
       "      <th>M2</th>\n",
       "      <th>p2/p1</th>\n",
       "      <th>ρ2/ρ1</th>\n",
       "      <th>T2/T1</th>\n",
       "      <th>p02/p01</th>\n",
       "    </tr>\n",
       "  </thead>\n",
       "  <tbody>\n",
       "    <tr>\n",
       "      <th>0</th>\n",
       "      <td>0.100000</td>\n",
       "      <td>0.900000</td>\n",
       "      <td>0.100000</td>\n",
       "      <td>0.100000</td>\n",
       "      <td>0.100000</td>\n",
       "      <td>0.900000</td>\n",
       "    </tr>\n",
       "    <tr>\n",
       "      <th>1</th>\n",
       "      <td>0.102005</td>\n",
       "      <td>0.886641</td>\n",
       "      <td>0.100675</td>\n",
       "      <td>0.103354</td>\n",
       "      <td>0.101102</td>\n",
       "      <td>0.900000</td>\n",
       "    </tr>\n",
       "    <tr>\n",
       "      <th>2</th>\n",
       "      <td>0.104010</td>\n",
       "      <td>0.873700</td>\n",
       "      <td>0.101361</td>\n",
       "      <td>0.106728</td>\n",
       "      <td>0.102203</td>\n",
       "      <td>0.900000</td>\n",
       "    </tr>\n",
       "    <tr>\n",
       "      <th>3</th>\n",
       "      <td>0.106015</td>\n",
       "      <td>0.860898</td>\n",
       "      <td>0.102050</td>\n",
       "      <td>0.110122</td>\n",
       "      <td>0.103288</td>\n",
       "      <td>0.899915</td>\n",
       "    </tr>\n",
       "    <tr>\n",
       "      <th>4</th>\n",
       "      <td>0.108020</td>\n",
       "      <td>0.848513</td>\n",
       "      <td>0.102748</td>\n",
       "      <td>0.113516</td>\n",
       "      <td>0.104373</td>\n",
       "      <td>0.899915</td>\n",
       "    </tr>\n",
       "    <tr>\n",
       "      <th>...</th>\n",
       "      <td>...</td>\n",
       "      <td>...</td>\n",
       "      <td>...</td>\n",
       "      <td>...</td>\n",
       "      <td>...</td>\n",
       "      <td>...</td>\n",
       "    </tr>\n",
       "    <tr>\n",
       "      <th>395</th>\n",
       "      <td>0.891980</td>\n",
       "      <td>0.100835</td>\n",
       "      <td>0.886709</td>\n",
       "      <td>0.897289</td>\n",
       "      <td>0.887049</td>\n",
       "      <td>0.101705</td>\n",
       "    </tr>\n",
       "    <tr>\n",
       "      <th>396</th>\n",
       "      <td>0.893985</td>\n",
       "      <td>0.100696</td>\n",
       "      <td>0.890020</td>\n",
       "      <td>0.897972</td>\n",
       "      <td>0.890287</td>\n",
       "      <td>0.101279</td>\n",
       "    </tr>\n",
       "    <tr>\n",
       "      <th>397</th>\n",
       "      <td>0.895990</td>\n",
       "      <td>0.100417</td>\n",
       "      <td>0.893340</td>\n",
       "      <td>0.898654</td>\n",
       "      <td>0.893508</td>\n",
       "      <td>0.100853</td>\n",
       "    </tr>\n",
       "    <tr>\n",
       "      <th>398</th>\n",
       "      <td>0.897995</td>\n",
       "      <td>0.100278</td>\n",
       "      <td>0.896666</td>\n",
       "      <td>0.899337</td>\n",
       "      <td>0.896762</td>\n",
       "      <td>0.100426</td>\n",
       "    </tr>\n",
       "    <tr>\n",
       "      <th>399</th>\n",
       "      <td>0.900000</td>\n",
       "      <td>0.100000</td>\n",
       "      <td>0.900000</td>\n",
       "      <td>0.900000</td>\n",
       "      <td>0.900000</td>\n",
       "      <td>0.100000</td>\n",
       "    </tr>\n",
       "  </tbody>\n",
       "</table>\n",
       "<p>400 rows × 6 columns</p>\n",
       "</div>"
      ],
      "text/plain": [
       "           M1        M2     p2/p1     ρ2/ρ1     T2/T1   p02/p01\n",
       "0    0.100000  0.900000  0.100000  0.100000  0.100000  0.900000\n",
       "1    0.102005  0.886641  0.100675  0.103354  0.101102  0.900000\n",
       "2    0.104010  0.873700  0.101361  0.106728  0.102203  0.900000\n",
       "3    0.106015  0.860898  0.102050  0.110122  0.103288  0.899915\n",
       "4    0.108020  0.848513  0.102748  0.113516  0.104373  0.899915\n",
       "..        ...       ...       ...       ...       ...       ...\n",
       "395  0.891980  0.100835  0.886709  0.897289  0.887049  0.101705\n",
       "396  0.893985  0.100696  0.890020  0.897972  0.890287  0.101279\n",
       "397  0.895990  0.100417  0.893340  0.898654  0.893508  0.100853\n",
       "398  0.897995  0.100278  0.896666  0.899337  0.896762  0.100426\n",
       "399  0.900000  0.100000  0.900000  0.900000  0.900000  0.100000\n",
       "\n",
       "[400 rows x 6 columns]"
      ]
     },
     "execution_count": 4,
     "metadata": {},
     "output_type": "execute_result"
    }
   ],
   "source": [
    "df=pd.read_excel(\"normal_shock.xlsx\",engine='openpyxl')\n",
    "#Normalizing the data between 0.1 to 0.9\n",
    "result=normalized_df=(df-df.min())/(df.max()-df.min())*0.8+0.1\n",
    "result"
   ]
  },
  {
   "cell_type": "markdown",
   "metadata": {},
   "source": [
    "### Taking Input from User"
   ]
  },
  {
   "cell_type": "code",
   "execution_count": null,
   "metadata": {
    "scrolled": true
   },
   "outputs": [],
   "source": [
    "array=result.to_numpy()\n",
    "print(list(result.columns))\n",
    "M=6                                 #Maxium output plus input=6\n",
    "ip=int(input(\"No. of Inputs neurons = \"))\n",
    "op=M-ip\n",
    "#op=int(input(\"No of Outputs neurons = \"))\n",
    "train=int(input(\"No of Training patterns out of total 400 = \"))\n",
    "test=int(input(\"No of Testing patterns = \"))\n",
    "h=int(input(\"No of Hidden neurons = \"))\n",
    "Target=[]\n",
    "Input=[]\n",
    "for row in array[:train]:\n",
    "    Input.append(row[:ip])\n",
    "    Target.append(row[ip:ip+op])\n",
    "I=np.insert(Input,0,1,axis=1)\n",
    "v=np.random.rand(ip+1,h)\n",
    "w=np.random.rand(h+1,op)"
   ]
  },
  {
   "cell_type": "markdown",
   "metadata": {},
   "source": [
    "### Defining Initial Variable"
   ]
  },
  {
   "cell_type": "code",
   "execution_count": 4,
   "metadata": {},
   "outputs": [],
   "source": [
    "iteration=0\n",
    "dw=np.zeros([h+1,op],dtype=float)\n",
    "dv=np.zeros([ip+1,h],dtype=float)\n",
    "alpha=0.5             #ASUUMING alpha =0.5\n",
    "eta=0.25              #by optimization eta=0.25            \n",
    "error_new=1\n"
   ]
  },
  {
   "cell_type": "markdown",
   "metadata": {},
   "source": [
    "### Back Propogation Function"
   ]
  },
  {
   "cell_type": "code",
   "execution_count": 5,
   "metadata": {},
   "outputs": [],
   "source": [
    "def back_propogation(ip,op,h,train,w,dw,v,dv):    #defining back propagation function\n",
    "    for j in range(h+1):\n",
    "        for k in range(op):                       #for input to hidden layers weightage updation\n",
    "            Sum=0\n",
    "            for p in range(train):\n",
    "                Sum+=(Target[p][k]-O[p][k])*O[p][k]*(1-O[p][k])*OH[p][j]      #sum=differntiation of error wrt wjk\n",
    "            w[j][k]=w[j][k]+eta*Sum/train+alpha*dw[j][k]\n",
    "            dw[j][k]=eta*Sum/train\n",
    "   \n",
    "    for m in range(ip+1):                          #for hidden to output layer weightage updatation\n",
    "        for j in range(h):\n",
    "            sum=0\n",
    "            for p in range(train):\n",
    "                for k in range(op):                #sum=differntiation of error wrt vmj\n",
    "     \n",
    "                  sum+=(Target[p][k]-O[p][k])*O[p][k]*(1-O[p][k])*w[j][k]*OH[p][j]*(1-OH[p][j])*I[p][m]  \n",
    "            v[m][j]=v[m][j]+sum*eta/(op*train)+alpha*dv[m][j]\n",
    "            dv[m][j]=sum*eta/(op*train)\n",
    "    return(w,dw,v,dv)\n",
    "    \n",
    "    \n",
    "    \n",
    "    "
   ]
  },
  {
   "cell_type": "code",
   "execution_count": 6,
   "metadata": {},
   "outputs": [],
   "source": [
    "output_array=list()  #array to store incremental error value"
   ]
  },
  {
   "cell_type": "markdown",
   "metadata": {},
   "source": [
    "### Training algorithm "
   ]
  },
  {
   "cell_type": "code",
   "execution_count": null,
   "metadata": {},
   "outputs": [],
   "source": [
    "while(iteration<20000 and error_new>.0000001):\n",
    "    IH=np.dot(I,v)                                                          #input to hidden neuron\n",
    "    O_H=[[1/(1+np.exp(-x)) for x in IH[i]]for i in range(len(IH))]          #log sigmoid function as TF\n",
    "    OH=np.insert(O_H,0,1,axis=1)                                            #output of hidden neuron with bias\n",
    "    IO=np.dot(OH,w)                                                         #input to output neuoron\n",
    "    O=[[1/(1+np.exp(-x)) for x in IO[i]]for i in range(len(IO))]         # output of output neurons &log sigmoid function as TF\n",
    "    error_new=mean_squared_error(Target,O)                                  \n",
    "    w,dw,v,dv=back_propogation(ip,op,h,train,w,dw,v,dv)\n",
    "    iteration=iteration+1\n",
    "    output_array.append(error_new)\n",
    "    print(error_new)\n",
    "    \n",
    "print('mean squared error = ',error_new)\n",
    "print('no of iterations = ',iteration)\n",
    "print('weight between input and hidden\\n', v)\n",
    "print('weight between hidden and output\\n', w)"
   ]
  },
  {
   "cell_type": "code",
   "execution_count": 11,
   "metadata": {},
   "outputs": [],
   "source": [
    "error=pd.DataFrame(output_array,columns=['MSE']).reset_index()  #chainging array to data frame for plotting"
   ]
  },
  {
   "cell_type": "markdown",
   "metadata": {},
   "source": [
    "### Plot between error and iteration"
   ]
  },
  {
   "cell_type": "code",
   "execution_count": null,
   "metadata": {},
   "outputs": [],
   "source": [
    "error.plot.line('index' ,'MSE')"
   ]
  },
  {
   "cell_type": "markdown",
   "metadata": {},
   "source": [
    "### Testing the ANN"
   ]
  },
  {
   "cell_type": "code",
   "execution_count": null,
   "metadata": {},
   "outputs": [],
   "source": [
    "#testing\n",
    "T_test=[]\n",
    "Input_test=[]\n",
    "for row in array[train:train+test]:\n",
    "    Input_test.append(row[:ip])\n",
    "    T_test.append(row[ip:ip+op])\n",
    "I_test=np.insert(Input_test,0,1,axis=1)\n",
    "IH_test=np.dot(I_test,v)\n",
    "O_H_test=[[1/(1+np.exp(-x)) for x in IH_test[i]]for i in range(len(IH_test))]\n",
    "OH_test=np.insert(O_H_test,0,1,axis=1)\n",
    "IO_test=np.dot(OH_test,w)\n",
    "O_test=[[1/(1+np.exp(-x)) for x in IO_test[i]]for i in range(len(IO_test))]\n",
    "error=mean_squared_error(T_test,O_test)\n",
    "print('mean squared error of testing pattern = ',error)\n"
   ]
  },
  {
   "cell_type": "markdown",
   "metadata": {},
   "source": [
    "### Converting values to De-Normalized form "
   ]
  },
  {
   "cell_type": "code",
   "execution_count": null,
   "metadata": {},
   "outputs": [],
   "source": [
    "#denormalize\n",
    "max_value_array=[]\n",
    "min_value_array=[]\n",
    "for feature in df.columns[ip:ip+op]:\n",
    "    max_value_array.append(df[feature].max())\n",
    "    min_value_array.append(df[feature].min())\n",
    "denormalized_output=[[(O_test[i][j]-0.1)/0.8*(max_value_array[j]-min_value_array[j])+min_value_array[j] for j in range(len(O_test[0]))]for i in range(len(O_test))]\n",
    "pd.DataFrame(denormalized_output)"
   ]
  }
 ],
 "metadata": {
  "kernelspec": {
   "display_name": "Python 3 (ipykernel)",
   "language": "python",
   "name": "python3"
  },
  "language_info": {
   "codemirror_mode": {
    "name": "ipython",
    "version": 3
   },
   "file_extension": ".py",
   "mimetype": "text/x-python",
   "name": "python",
   "nbconvert_exporter": "python",
   "pygments_lexer": "ipython3",
   "version": "3.10.4"
  }
 },
 "nbformat": 4,
 "nbformat_minor": 2
}
